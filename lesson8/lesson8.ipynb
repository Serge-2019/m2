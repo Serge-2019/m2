{
 "cells": [
  {
   "cell_type": "code",
   "execution_count": 6,
   "metadata": {},
   "outputs": [
    {
     "data": {
      "image/png": "[encoded data removed]",
      "text/plain": [
       "<Figure size 432x288 with 1 Axes>"
      ]
     },
     "metadata": {
      "needs_background": "light"
     },
     "output_type": "display_data"
    },
    {
     "name": "stdout",
     "output_type": "stream",
     "text": [
      "9.999999951916537 0.9999546021291148\n"
     ]
    }
   ],
   "source": [
    "import numpy as np\n",
    "from scipy.optimize import fsolve, broyden1\n",
    "import matplotlib.pyplot as plt\n",
    "import math\n",
    "\n",
    "\n",
    "# Задаем рандомное распределение точек\n",
    "x = np.random.uniform(-8, 8, 200)\n",
    "a = np.random.uniform(0.5, 1.5, 200)\n",
    "b = np.random.uniform(-1, 1, 200)\n",
    "\n",
    "f = 1/(1+np.exp(-a*x-b))\n",
    "plt.plot(x,f, marker=\"o\", ls=\"\")\n",
    "\n",
    "plt.show()\n",
    "\n",
    "def equations(p):\n",
    "    a = 1\n",
    "    b = 0\n",
    "    x, y = p\n",
    "    e = math.exp(-a*x+b)\n",
    "    e1 = e + 1\n",
    "    \n",
    "    # Запись системы уравнения вида x+y=2, x-y=0\n",
    "    return (-2*x*(y - 1/e1)*e/(e1**2), 2*(y - 1/e1)*e/(e1**2))\n",
    "\n",
    "# Численное решение нелинечной системы уравнений\n",
    "x, y =  fsolve(equations, (10, 10))\n",
    "print (x, y)"
   ]
  }
 ],
 "metadata": {
  "kernelspec": {
   "display_name": "Python 3",
   "language": "python",
   "name": "python3"
  },
  "language_info": {
   "codemirror_mode": {
    "name": "ipython",
    "version": 3
   },
   "file_extension": ".py",
   "mimetype": "text/x-python",
   "name": "python",
   "nbconvert_exporter": "python",
   "pygments_lexer": "ipython3",
   "version": "3.7.1"
  }
 },
 "nbformat": 4,
 "nbformat_minor": 2
}

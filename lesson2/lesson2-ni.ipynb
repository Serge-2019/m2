{
 "cells": [
  {
   "cell_type": "markdown",
   "metadata": {},
   "source": [
    "# Тема “Введение в математических анализ”\n",
    "\n",
    "### 1. Как относятся друг к другу множество и последовательность? \n",
    "(в ответе использовать слова типа: часть, целое, общее, частное, родитель, дочерний субъект и т.д.)"
   ]
  },
  {
   "cell_type": "markdown",
   "metadata": {},
   "source": [
    ">  Последовательность — это результат последовательного выбора элементов из определенного множества, т.е. для каждого натурального числа можно указать элемент данного множества\n",
    "\n",
    "> Таким образом можно считать что последовательность может является частью множества "
   ]
  },
  {
   "cell_type": "markdown",
   "metadata": {},
   "source": [
    "### 2. Прочитать высказывания математической логики, построить их отрицания и установить истинность."
   ]
  },
  {
   "cell_type": "markdown",
   "metadata": {},
   "source": [
    "* https://github.com/Serge-2019/m2/blob/lesson2/lesson2/res11.jpg\n",
    "* https://github.com/Serge-2019/m2/blob/lesson2/lesson2/res12.jpg"
   ]
  },
  {
   "cell_type": "markdown",
   "metadata": {},
   "source": [
    "# Тема “Множество”\n",
    "\n",
    "### 1. Даны три множества a,b и с. Необходимо выполнить все изученные виды бинарных операций над всеми комбинациями множеств.\n",
    "\n",
    "* https://github.com/Serge-2019/m2/blob/lesson2/lesson2/res2.jpg"
   ]
  },
  {
   "cell_type": "markdown",
   "metadata": {},
   "source": [
    "### 2. *Выполнить задание 1 на языке Python"
   ]
  },
  {
   "cell_type": "code",
   "execution_count": 57,
   "metadata": {},
   "outputs": [
    {
     "name": "stdout",
     "output_type": "stream",
     "text": [
      "Пересечение a b: {2, 4}\n",
      "Пересечение c b: {6}\n",
      "Объеденение b c: {2, 3, 4, 6, 8, 9, 10, 12, 15}\n",
      "Пересечение a & c | Объеденение b: {2, 3, 4, 6, 8, 10}\n",
      "Разность b - c: {8, 2, 10, 4}\n",
      "Разность c - a - b: {9, 12, 15}\n",
      "Симметрическая разность a - b: {1, 3, 5, 6, 8, 10}\n",
      "Симметрическая разность b - c: {2, 3, 4, 8, 9, 10, 12, 15}\n",
      "Декартово произведение a x b: {(4, 8), (5, 6), (2, 8), (1, 6), (5, 8), (1, 2), (3, 10), (4, 4), (3, 6), (2, 2), (1, 10), (4, 10), (3, 2), (2, 6), (5, 4), (5, 2), (1, 4), (2, 10), (4, 2), (5, 10), (4, 6), (3, 8), (1, 8), (3, 4), (2, 4)}\n",
      "Дополнение b: {1, 3, 5, 9, 12, 15}\n",
      "Булеан для a: [{()}, {(1,), (2,), (3,), (4,), (5,)}, {(1, 2), (1, 3), (4, 5), (1, 4), (1, 5), (2, 3), (2, 5), (3, 4), (2, 4), (3, 5)}, {(2, 3, 5), (1, 2, 3), (1, 3, 5), (1, 4, 5), (1, 2, 4), (1, 3, 4), (2, 4, 5), (3, 4, 5), (2, 3, 4), (1, 2, 5)}, {(1, 2, 3, 4), (1, 3, 4, 5), (2, 3, 4, 5), (1, 2, 3, 5), (1, 2, 4, 5)}, {(1, 2, 3, 4, 5)}]\n"
     ]
    }
   ],
   "source": [
    "a = {1,2,3,4,5}\n",
    "b = {2,4,6,8,10}\n",
    "c = {3,6,9,12,15}\n",
    "\n",
    "U = a | b | c # обозначим универсум\n",
    "\n",
    "# пересечение\n",
    "print(f'Пересечение a b: {a.intersection(b)}')\n",
    "print(f'Пересечение c b: {c & b}') # другой способ\n",
    "\n",
    "# обьеденение\n",
    "print(f'Объеденение b c: {b.union(c)}')\n",
    "print(f'Пересечение a & c | Объеденение b: {a & c | b}') # другой способ\n",
    "\n",
    "# разность\n",
    "print(f'Разность b - c: {b.difference(c)}')\n",
    "print(f'Разность c - a - b: {c - a - b}') # другой способ\n",
    "\n",
    "# Симметрическая разность\n",
    "print(f'Симметрическая разность a - b: {a.symmetric_difference(b)}')\n",
    "print(f'Симметрическая разность b - c: {b ^ c}') # другой способ\n",
    "\n",
    "# Декартово произведение\n",
    "from itertools import product, combinations\n",
    "print(f'Декартово произведение a x b: {set(product(a,b))}')\n",
    "\n",
    "\n",
    "# Дополнение\n",
    "print(f'Дополнение b: {U - b}')\n",
    "\n",
    "# Булеан\n",
    "print(f'Булеан для a: {[set(combinations(a, i)) for i in range(0, len(a)+1)]}')"
   ]
  },
  {
   "cell_type": "markdown",
   "metadata": {},
   "source": [
    "# Тема 3 “Последовательность”\n",
    "\n",
    "### 1. Даны 4 последовательности. \n",
    "\n",
    "* https://github.com/Serge-2019/m2/blob/lesson2/lesson2/res31.jpg\n",
    "* https://github.com/Serge-2019/m2/blob/lesson2/lesson2/res32.jpg"
   ]
  },
  {
   "cell_type": "code",
   "execution_count": 62,
   "metadata": {},
   "outputs": [
    {
     "name": "stdout",
     "output_type": "stream",
     "text": [
      "                   1                    0  0.41421356237309515                  2.0\n",
      "                   2                 -1.0                  3.0                 1.25\n",
      "                   5                 -0.5   1.4494897427831779   1.1111111111111112\n",
      "                  12  -0.3333333333333333   3.8284271247461903               1.0625\n"
     ]
    }
   ],
   "source": [
    "from math import sqrt\n",
    "def a(n):\n",
    "    return 2**n - n\n",
    "\n",
    "def b(n):\n",
    "    if n==1:\n",
    "        return 0\n",
    "    return 1/(1-n)\n",
    "\n",
    "def c(n):\n",
    "    return (-1)**n + sqrt(2*n)\n",
    "\n",
    "def d(n):\n",
    "    return (-1)**(2*n) + 1/(n**2)\n",
    "    \n",
    "for i in range(1,5):\n",
    "    print(f'{a(i):20} {b(i):20} {c(i):20} {d(i):20}')"
   ]
  },
  {
   "cell_type": "markdown",
   "metadata": {},
   "source": [
    "### 2. Найти 12-й член заданной неявно последовательности\n",
    "\n",
    "* https://github.com/Serge-2019/m2/blob/lesson2/lesson2/res4.jpg"
   ]
  },
  {
   "cell_type": "markdown",
   "metadata": {},
   "source": [
    "### 3. *На языке Python предложить алгоритм вычисляющий численно предел с точностью"
   ]
  },
  {
   "cell_type": "code",
   "execution_count": 1,
   "metadata": {},
   "outputs": [],
   "source": [
    "# from math import factorial\n",
    "\n",
    "# def f(n):\n",
    "#     return n / pow(factorial(n),1/n)\n",
    "\n",
    "# for n in range(1,100):\n",
    "#     prev = f(n-1) if n>1 else 0\n",
    "#     cur = f(n)\n",
    "#     print(f'{n:>4} = {cur:<20} | {cur-prev:<10}')"
   ]
  }
 ],
 "metadata": {
  "kernelspec": {
   "display_name": "Python 3",
   "language": "python",
   "name": "python3"
  },
  "language_info": {
   "codemirror_mode": {
    "name": "ipython",
    "version": 3
   },
   "file_extension": ".py",
   "mimetype": "text/x-python",
   "name": "python",
   "nbconvert_exporter": "python",
   "pygments_lexer": "ipython3",
   "version": "3.7.1"
  }
 },
 "nbformat": 4,
 "nbformat_minor": 2
}

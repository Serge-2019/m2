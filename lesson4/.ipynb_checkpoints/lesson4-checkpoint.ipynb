{
 "cells": [
  {
   "cell_type": "markdown",
   "metadata": {},
   "source": [
    "# Тема “Предел функции”\n",
    "\n",
    "### 1. Предложить пример функции, не имеющей предела в нуле и в бесконечностях.\n",
    "\n",
    "> наверное lim sin(1/x)\n",
    "\n",
    "### 2. Привести пример функции, не имеющей предела в точке, но определенной в ней.\n",
    "\n",
    "> не могу определить пожалуйста поясните\n",
    "\n",
    "### 3. Исследовать функцию  по плану:\n",
    "\n",
    "<img src=\"graph.png\">\n",
    "<img src=\"3.jpg\">\n",
    "\n",
    "### 4. Найти предел:\n",
    "\n",
    "<img src=\"4.jpg\">\n",
    "\n",
    "# Тема “Теоремы о пределах”\n",
    "\n",
    "### 1. Найти предел:\n",
    "\n",
    "<img src=\"5.jpg\">"
   ]
  }
 ],
 "metadata": {
  "kernelspec": {
   "display_name": "Python 3",
   "language": "python",
   "name": "python3"
  },
  "language_info": {
   "codemirror_mode": {
    "name": "ipython",
    "version": 3
   },
   "file_extension": ".py",
   "mimetype": "text/x-python",
   "name": "python",
   "nbconvert_exporter": "python",
   "pygments_lexer": "ipython3",
   "version": "3.7.1"
  }
 },
 "nbformat": 4,
 "nbformat_minor": 2
}

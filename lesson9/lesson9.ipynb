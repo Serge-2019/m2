{
 "cells": [
  {
   "cell_type": "markdown",
   "metadata": {},
   "source": [
    "<img src=\"1.jpg\">"
   ]
  },
  {
   "cell_type": "code",
   "execution_count": 26,
   "metadata": {},
   "outputs": [
    {
     "name": "stdout",
     "output_type": "stream",
     "text": [
      "-0.6973344469834806 -1.1265083899644412\n",
      "-0.3354880581300288 -1.1669260793756766\n",
      "1.375687140379588 -0.17475798541530854\n",
      "1.273302064528599 1.6620391224277693\n",
      "2.494356537909904 0.7083175224861691\n"
     ]
    }
   ],
   "source": [
    "import numpy as np\n",
    "from scipy.optimize import fsolve, broyden1\n",
    "import math\n",
    "\n",
    "def equations(p):\n",
    "    x, y = p\n",
    "    return (x**2 - y**2 + 3*x*(y**3)-2*(x**2)*(y**2)+2*x-3*y-5, \n",
    "            3*(y**3)-2*(x**2)+2*(x**3)*y-5*(x**2)*(y**2)+5)\n",
    "\n",
    "for a in [-1000, -1, 0, 10, 1000]:\n",
    "    x, y =  fsolve(equations, (a, a))\n",
    "    print (x, y)\n"
   ]
  }
 ],
 "metadata": {
  "kernelspec": {
   "display_name": "Python 3",
   "language": "python",
   "name": "python3"
  },
  "language_info": {
   "codemirror_mode": {
    "name": "ipython",
    "version": 3
   },
   "file_extension": ".py",
   "mimetype": "text/x-python",
   "name": "python",
   "nbconvert_exporter": "python",
   "pygments_lexer": "ipython3",
   "version": "3.7.1"
  }
 },
 "nbformat": 4,
 "nbformat_minor": 2
}
